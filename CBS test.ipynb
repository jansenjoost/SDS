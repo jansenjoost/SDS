{
 "cells": [
  {
   "cell_type": "markdown",
   "metadata": {},
   "source": [
    "## Test CBS data api"
   ]
  },
  {
   "cell_type": "code",
   "execution_count": 2,
   "metadata": {},
   "outputs": [
    {
     "data": {
      "text/plain": [
       "True"
      ]
     },
     "execution_count": 2,
     "metadata": {},
     "output_type": "execute_result"
    }
   ],
   "source": [
    "url = 'http://opendata.cbs.nl/ODataApi/OData/82016NED/Persoonskenmerken'\n",
    "import requests\n",
    "response = requests.get(url)\n",
    "response.ok"
   ]
  },
  {
   "cell_type": "code",
   "execution_count": 3,
   "metadata": {},
   "outputs": [],
   "source": [
    "jsonresponse = response.json()"
   ]
  },
  {
   "cell_type": "code",
   "execution_count": 5,
   "metadata": {},
   "outputs": [
    {
     "data": {
      "text/html": [
       "<div>\n",
       "<style scoped>\n",
       "    .dataframe tbody tr th:only-of-type {\n",
       "        vertical-align: middle;\n",
       "    }\n",
       "\n",
       "    .dataframe tbody tr th {\n",
       "        vertical-align: top;\n",
       "    }\n",
       "\n",
       "    .dataframe thead th {\n",
       "        text-align: right;\n",
       "    }\n",
       "</style>\n",
       "<table border=\"1\" class=\"dataframe\">\n",
       "  <thead>\n",
       "    <tr style=\"text-align: right;\">\n",
       "      <th></th>\n",
       "      <th>CategoryGroupID</th>\n",
       "      <th>Description</th>\n",
       "      <th>Key</th>\n",
       "      <th>Title</th>\n",
       "    </tr>\n",
       "  </thead>\n",
       "  <tbody>\n",
       "    <tr>\n",
       "      <th>0</th>\n",
       "      <td>1</td>\n",
       "      <td>None</td>\n",
       "      <td>T009002</td>\n",
       "      <td>Totaal personen</td>\n",
       "    </tr>\n",
       "    <tr>\n",
       "      <th>1</th>\n",
       "      <td>2</td>\n",
       "      <td>None</td>\n",
       "      <td>3000</td>\n",
       "      <td>Geslacht: Mannen</td>\n",
       "    </tr>\n",
       "    <tr>\n",
       "      <th>2</th>\n",
       "      <td>2</td>\n",
       "      <td></td>\n",
       "      <td>4000</td>\n",
       "      <td>Geslacht: Vrouwen</td>\n",
       "    </tr>\n",
       "    <tr>\n",
       "      <th>3</th>\n",
       "      <td>3</td>\n",
       "      <td>None</td>\n",
       "      <td>41600</td>\n",
       "      <td>Leeftijd: jonger dan 27 jaar</td>\n",
       "    </tr>\n",
       "    <tr>\n",
       "      <th>4</th>\n",
       "      <td>3</td>\n",
       "      <td>None</td>\n",
       "      <td>53610</td>\n",
       "      <td>Leeftijd: 27 tot 45 jaar</td>\n",
       "    </tr>\n",
       "    <tr>\n",
       "      <th>5</th>\n",
       "      <td>3</td>\n",
       "      <td>De AOW-leeftijd is de leeftijd waarop het AOW-...</td>\n",
       "      <td>90150</td>\n",
       "      <td>Leeftijd: 45 jaar tot AOW-leeftijd</td>\n",
       "    </tr>\n",
       "    <tr>\n",
       "      <th>6</th>\n",
       "      <td>3</td>\n",
       "      <td>De AOW-leeftijd is de leeftijd waarop het AOW-...</td>\n",
       "      <td>90200</td>\n",
       "      <td>Leeftijd: AOW-leeftijd of ouder</td>\n",
       "    </tr>\n",
       "    <tr>\n",
       "      <th>7</th>\n",
       "      <td>4</td>\n",
       "      <td>Persoon met een Nederlandse achtergrond\\r\\n\\r\\...</td>\n",
       "      <td>1012600</td>\n",
       "      <td>Migratieachtergrond: Nederland</td>\n",
       "    </tr>\n",
       "    <tr>\n",
       "      <th>8</th>\n",
       "      <td>4</td>\n",
       "      <td>Persoon met een westerse migratieachtergrond\\r...</td>\n",
       "      <td>2012655</td>\n",
       "      <td>Migratieachtergrond: westers</td>\n",
       "    </tr>\n",
       "    <tr>\n",
       "      <th>9</th>\n",
       "      <td>4</td>\n",
       "      <td>Persoon met een niet-westerse migratieachtergr...</td>\n",
       "      <td>2012657</td>\n",
       "      <td>Migratieachtergrond: niet-westers</td>\n",
       "    </tr>\n",
       "  </tbody>\n",
       "</table>\n",
       "</div>"
      ],
      "text/plain": [
       "   CategoryGroupID                                        Description  \\\n",
       "0                1                                               None   \n",
       "1                2                                               None   \n",
       "2                2                                                      \n",
       "3                3                                               None   \n",
       "4                3                                               None   \n",
       "5                3  De AOW-leeftijd is de leeftijd waarop het AOW-...   \n",
       "6                3  De AOW-leeftijd is de leeftijd waarop het AOW-...   \n",
       "7                4  Persoon met een Nederlandse achtergrond\\r\\n\\r\\...   \n",
       "8                4  Persoon met een westerse migratieachtergrond\\r...   \n",
       "9                4  Persoon met een niet-westerse migratieachtergr...   \n",
       "\n",
       "       Key                               Title  \n",
       "0  T009002                     Totaal personen  \n",
       "1  3000                       Geslacht: Mannen  \n",
       "2  4000                      Geslacht: Vrouwen  \n",
       "3  41600          Leeftijd: jonger dan 27 jaar  \n",
       "4  53610              Leeftijd: 27 tot 45 jaar  \n",
       "5  90150    Leeftijd: 45 jaar tot AOW-leeftijd  \n",
       "6  90200       Leeftijd: AOW-leeftijd of ouder  \n",
       "7  1012600      Migratieachtergrond: Nederland  \n",
       "8  2012655        Migratieachtergrond: westers  \n",
       "9  2012657   Migratieachtergrond: niet-westers  "
      ]
     },
     "execution_count": 5,
     "metadata": {},
     "output_type": "execute_result"
    }
   ],
   "source": [
    "import pandas as pd \n",
    "jsonresponse = response.json()\n",
    "jsonresponse = jsonresponse['value']\n",
    "data_pk = pd.DataFrame.from_dict(jsonresponse, orient=\"columns\")\n",
    "data_pk.head(10)"
   ]
  },
  {
   "cell_type": "code",
   "execution_count": 6,
   "metadata": {},
   "outputs": [
    {
     "data": {
      "text/plain": [
       "True"
      ]
     },
     "execution_count": 6,
     "metadata": {},
     "output_type": "execute_result"
    }
   ],
   "source": [
    "url_data = 'http://opendata.cbs.nl/ODataApi/OData/82016NED/UntypedDataSet'\n",
    "import requests\n",
    "response_data = requests.get(url_data)\n",
    "response_data.ok"
   ]
  },
  {
   "cell_type": "code",
   "execution_count": 84,
   "metadata": {},
   "outputs": [],
   "source": [
    "jsonresponse_data = response_data.json()\n",
    "jsonresponse_data = jsonresponse_data['value']\n",
    "data = pd.DataFrame.from_dict(jsonresponse_data, orient=\"columns\")"
   ]
  },
  {
   "cell_type": "code",
   "execution_count": 87,
   "metadata": {},
   "outputs": [
    {
     "data": {
      "text/html": [
       "<div>\n",
       "<style scoped>\n",
       "    .dataframe tbody tr th:only-of-type {\n",
       "        vertical-align: middle;\n",
       "    }\n",
       "\n",
       "    .dataframe tbody tr th {\n",
       "        vertical-align: top;\n",
       "    }\n",
       "\n",
       "    .dataframe thead th {\n",
       "        text-align: right;\n",
       "    }\n",
       "</style>\n",
       "<table border=\"1\" class=\"dataframe\">\n",
       "  <thead>\n",
       "    <tr style=\"text-align: right;\">\n",
       "      <th></th>\n",
       "      <th>ID</th>\n",
       "      <th>Perioden</th>\n",
       "      <th>Persoonskenmerken</th>\n",
       "      <th>TotDeAOWLeeftijd_2</th>\n",
       "      <th>TotaalAantalPersonen_1</th>\n",
       "      <th>VanafAOWLeeftijd_3</th>\n",
       "      <th>CategoryGroupID</th>\n",
       "      <th>Description</th>\n",
       "      <th>Key</th>\n",
       "      <th>Title</th>\n",
       "    </tr>\n",
       "  </thead>\n",
       "  <tbody>\n",
       "    <tr>\n",
       "      <th>0</th>\n",
       "      <td>0</td>\n",
       "      <td>2007-01</td>\n",
       "      <td>T009002</td>\n",
       "      <td>355530</td>\n",
       "      <td>389380</td>\n",
       "      <td>33640</td>\n",
       "      <td>1</td>\n",
       "      <td>None</td>\n",
       "      <td>T009002</td>\n",
       "      <td>Totaal personen</td>\n",
       "    </tr>\n",
       "    <tr>\n",
       "      <th>1</th>\n",
       "      <td>1</td>\n",
       "      <td>2007-02</td>\n",
       "      <td>T009002</td>\n",
       "      <td>354260</td>\n",
       "      <td>388240</td>\n",
       "      <td>33890</td>\n",
       "      <td>1</td>\n",
       "      <td>None</td>\n",
       "      <td>T009002</td>\n",
       "      <td>Totaal personen</td>\n",
       "    </tr>\n",
       "    <tr>\n",
       "      <th>2</th>\n",
       "      <td>2</td>\n",
       "      <td>2007-03</td>\n",
       "      <td>T009002</td>\n",
       "      <td>350920</td>\n",
       "      <td>385150</td>\n",
       "      <td>34140</td>\n",
       "      <td>1</td>\n",
       "      <td>None</td>\n",
       "      <td>T009002</td>\n",
       "      <td>Totaal personen</td>\n",
       "    </tr>\n",
       "    <tr>\n",
       "      <th>3</th>\n",
       "      <td>3</td>\n",
       "      <td>2007-04</td>\n",
       "      <td>T009002</td>\n",
       "      <td>348650</td>\n",
       "      <td>383120</td>\n",
       "      <td>34380</td>\n",
       "      <td>1</td>\n",
       "      <td>None</td>\n",
       "      <td>T009002</td>\n",
       "      <td>Totaal personen</td>\n",
       "    </tr>\n",
       "    <tr>\n",
       "      <th>4</th>\n",
       "      <td>4</td>\n",
       "      <td>2007-05</td>\n",
       "      <td>T009002</td>\n",
       "      <td>345910</td>\n",
       "      <td>380570</td>\n",
       "      <td>34570</td>\n",
       "      <td>1</td>\n",
       "      <td>None</td>\n",
       "      <td>T009002</td>\n",
       "      <td>Totaal personen</td>\n",
       "    </tr>\n",
       "  </tbody>\n",
       "</table>\n",
       "</div>"
      ],
      "text/plain": [
       "   ID Perioden Persoonskenmerken TotDeAOWLeeftijd_2 TotaalAantalPersonen_1  \\\n",
       "0   0  2007-01           T009002             355530                 389380   \n",
       "1   1  2007-02           T009002             354260                 388240   \n",
       "2   2  2007-03           T009002             350920                 385150   \n",
       "3   3  2007-04           T009002             348650                 383120   \n",
       "4   4  2007-05           T009002             345910                 380570   \n",
       "\n",
       "  VanafAOWLeeftijd_3  CategoryGroupID Description      Key            Title  \n",
       "0              33640                1        None  T009002  Totaal personen  \n",
       "1              33890                1        None  T009002  Totaal personen  \n",
       "2              34140                1        None  T009002  Totaal personen  \n",
       "3              34380                1        None  T009002  Totaal personen  \n",
       "4              34570                1        None  T009002  Totaal personen  "
      ]
     },
     "execution_count": 87,
     "metadata": {},
     "output_type": "execute_result"
    }
   ],
   "source": [
    "import re\n",
    "total_df = pd.merge(data, data_pk, left_on='Persoonskenmerken', right_on='Key')\n",
    "total_df[(total_df['Title'] == 'Migratieachtergrond: niet-westers') | (total_df['Title'] == 'Migratieachtergrond: niet-Nederland')]\n",
    "total_df['Perioden'] = total_df['Perioden'].str.replace(r'MM', '-')\n",
    "total_df.head()"
   ]
  }
 ],
 "metadata": {
  "kernelspec": {
   "display_name": "Python 3",
   "language": "python",
   "name": "python3"
  },
  "language_info": {
   "codemirror_mode": {
    "name": "ipython",
    "version": 3
   },
   "file_extension": ".py",
   "mimetype": "text/x-python",
   "name": "python",
   "nbconvert_exporter": "python",
   "pygments_lexer": "ipython3",
   "version": "3.6.5"
  }
 },
 "nbformat": 4,
 "nbformat_minor": 2
}
