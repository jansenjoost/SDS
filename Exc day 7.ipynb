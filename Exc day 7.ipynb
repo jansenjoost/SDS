{
 "cells": [
  {
   "cell_type": "markdown",
   "metadata": {},
   "source": [
    "## Exc day 7"
   ]
  },
  {
   "cell_type": "code",
   "execution_count": 198,
   "metadata": {},
   "outputs": [],
   "source": [
    "import warnings\n",
    "from sklearn.exceptions import ConvergenceWarning\n",
    "warnings.filterwarnings(action='ignore', category=ConvergenceWarning)\n",
    "\n",
    "import matplotlib.pyplot as plt\n",
    "import numpy as np \n",
    "import pandas as pd \n",
    "import seaborn as sns"
   ]
  },
  {
   "cell_type": "code",
   "execution_count": 199,
   "metadata": {},
   "outputs": [],
   "source": [
    "from sklearn.datasets import fetch_california_housing\n",
    "from sklearn.model_selection import train_test_split\n",
    "\n",
    "cal_house = fetch_california_housing()    \n",
    "X = pd.DataFrame(data=cal_house['data'], \n",
    "                 columns=cal_house['feature_names'])\\\n",
    "             .iloc[:,:-2]\n",
    "y = cal_house['target']"
   ]
  },
  {
   "cell_type": "code",
   "execution_count": 201,
   "metadata": {},
   "outputs": [
    {
     "data": {
      "text/html": [
       "<div>\n",
       "<style scoped>\n",
       "    .dataframe tbody tr th:only-of-type {\n",
       "        vertical-align: middle;\n",
       "    }\n",
       "\n",
       "    .dataframe tbody tr th {\n",
       "        vertical-align: top;\n",
       "    }\n",
       "\n",
       "    .dataframe thead th {\n",
       "        text-align: right;\n",
       "    }\n",
       "</style>\n",
       "<table border=\"1\" class=\"dataframe\">\n",
       "  <thead>\n",
       "    <tr style=\"text-align: right;\">\n",
       "      <th></th>\n",
       "      <th>0</th>\n",
       "      <th>1</th>\n",
       "      <th>2</th>\n",
       "      <th>3</th>\n",
       "      <th>4</th>\n",
       "      <th>5</th>\n",
       "      <th>6</th>\n",
       "      <th>7</th>\n",
       "      <th>8</th>\n",
       "      <th>9</th>\n",
       "    </tr>\n",
       "  </thead>\n",
       "  <tbody>\n",
       "    <tr>\n",
       "      <th>0</th>\n",
       "      <td>4.674733</td>\n",
       "      <td>4.281578</td>\n",
       "      <td>0.600226</td>\n",
       "      <td>0.567047</td>\n",
       "      <td>10.678656</td>\n",
       "      <td>1.407859</td>\n",
       "      <td>0.610142</td>\n",
       "      <td>1.983330</td>\n",
       "      <td>0.673593</td>\n",
       "      <td>0.635999</td>\n",
       "    </tr>\n",
       "    <tr>\n",
       "      <th>1</th>\n",
       "      <td>6.007534</td>\n",
       "      <td>2.937226</td>\n",
       "      <td>0.631442</td>\n",
       "      <td>6.172984</td>\n",
       "      <td>13.883766</td>\n",
       "      <td>8.991859</td>\n",
       "      <td>0.654161</td>\n",
       "      <td>1.500409</td>\n",
       "      <td>0.972118</td>\n",
       "      <td>0.616642</td>\n",
       "    </tr>\n",
       "  </tbody>\n",
       "</table>\n",
       "</div>"
      ],
      "text/plain": [
       "          0         1         2         3          4         5         6  \\\n",
       "0  4.674733  4.281578  0.600226  0.567047  10.678656  1.407859  0.610142   \n",
       "1  6.007534  2.937226  0.631442  6.172984  13.883766  8.991859  0.654161   \n",
       "\n",
       "          7         8         9  \n",
       "0  1.983330  0.673593  0.635999  \n",
       "1  1.500409  0.972118  0.616642  "
      ]
     },
     "execution_count": 201,
     "metadata": {},
     "output_type": "execute_result"
    }
   ],
   "source": [
    "from sklearn.linear_model import LinearRegression, Lasso\n",
    "from sklearn.metrics import mean_squared_error as mse\n",
    "from sklearn.pipeline import make_pipeline\n",
    "\n",
    "perform_val = []\n",
    "perform_test = []\n",
    "for i in range(10):\n",
    "    X_dev, X_test, y_dev, y_test = train_test_split(X, y, test_size=2/3, random_state=i)\n",
    "    X_train, X_val, y_train, y_val = train_test_split(X_dev, y_dev, test_size=.5, random_state=i)\n",
    "    pipe_lin = make_pipeline(LinearRegression())\n",
    "    pipe_lin.fit(X_train, y_train)\n",
    "    perform_val.append(mse(pipe_lin.predict(X_val), y_val))\n",
    "    perform_test.append(mse(pipe_lin.predict(X_test), y_test))\n",
    "\n",
    "rmse = pd.DataFrame([perform_val, perform_test])\n",
    "rmse"
   ]
  },
  {
   "cell_type": "code",
   "execution_count": 202,
   "metadata": {},
   "outputs": [
    {
     "name": "stdout",
     "output_type": "stream",
     "text": [
      "1.3827465964520191 1.3216842228076797\n"
     ]
    }
   ],
   "source": [
    "from sklearn.linear_model import Lasso\n",
    "from sklearn.preprocessing import PolynomialFeatures, StandardScaler\n",
    "pipe_lasso = make_pipeline(PolynomialFeatures(degree = 3, include_bias=False),\n",
    "                          StandardScaler(),\n",
    "                          Lasso())\n",
    "pipe_lasso.fit(X_train, y_train)\n",
    "perform_val_lasso = mse(pipe_lasso.predict(X_val), y_val)\n",
    "perform_test_lasso = mse(pipe_lasso.predict(X_test), y_test)\n",
    "print(perform_val_lasso, perform_test_lasso)"
   ]
  },
  {
   "cell_type": "code",
   "execution_count": 203,
   "metadata": {},
   "outputs": [
    {
     "data": {
      "text/plain": [
       "0.081113    0.770981\n",
       "dtype: float64"
      ]
     },
     "execution_count": 203,
     "metadata": {},
     "output_type": "execute_result"
    }
   ],
   "source": [
    "from sklearn.model_selection import KFold\n",
    "kfolds = KFold(n_splits=5)\n",
    "mseCV = []\n",
    "lambdas =  np.logspace(-4, 4, 12)\n",
    "\n",
    "for lambda_ in lambdas:\n",
    "    \n",
    "    pipe_lassoCV = make_pipeline(PolynomialFeatures(include_bias=False),\n",
    "                          StandardScaler(),\n",
    "                          Lasso(alpha=lambda_, random_state=1))\n",
    "    mseCV_ = []\n",
    "        \n",
    "    for tidx, validx in kfolds.split(X_dev, y_dev):\n",
    "            \n",
    "        X_train, y_train = X_dev.iloc[tidx], y_dev[tidx]\n",
    "        X_val, y_val = X_dev.iloc[validx], y_dev[validx]\n",
    "            \n",
    "        pipe_lassoCV.fit(X_train, y_train)\n",
    "            \n",
    "        mseCV_.append(mse(pipe_lassoCV.predict(X_val), y_val))\n",
    "    mseCV.append(mseCV_)\n",
    "\n",
    "optimalCV = pd.DataFrame(mseCV, index=lambdas).mean(axis=1).nsmallest(1)\n",
    "optimalCV"
   ]
  },
  {
   "cell_type": "code",
   "execution_count": 204,
   "metadata": {},
   "outputs": [
    {
     "name": "stdout",
     "output_type": "stream",
     "text": [
      "lambda\n",
      "0.081113    0.663315\n",
      "Name: Test, dtype: float64\n"
     ]
    }
   ],
   "source": [
    "from sklearn.model_selection import validation_curve\n",
    "\n",
    "train_scores, test_scores = \\\n",
    "    validation_curve(estimator=pipe_lasso,\n",
    "                     X=X_train,\n",
    "                     y=y_train,\n",
    "                     param_name='lasso__alpha',\n",
    "                     param_range=lambdas,\n",
    "                     scoring='neg_mean_squared_error',\n",
    "                     cv=5)\n",
    "\n",
    "mse_ = pd.DataFrame({'Train': -train_scores.mean(axis=1),'Test': -test_scores.mean(axis=1), 'lambda': lambdas}).set_index('lambda')\n",
    "print(mse_.Test.nsmallest(1))"
   ]
  },
  {
   "cell_type": "markdown",
   "metadata": {},
   "source": [
    "## Set 14"
   ]
  },
  {
   "cell_type": "code",
   "execution_count": 8,
   "metadata": {},
   "outputs": [
    {
     "data": {
      "text/html": [
       "<div>\n",
       "<style scoped>\n",
       "    .dataframe tbody tr th:only-of-type {\n",
       "        vertical-align: middle;\n",
       "    }\n",
       "\n",
       "    .dataframe tbody tr th {\n",
       "        vertical-align: top;\n",
       "    }\n",
       "\n",
       "    .dataframe thead th {\n",
       "        text-align: right;\n",
       "    }\n",
       "</style>\n",
       "<table border=\"1\" class=\"dataframe\">\n",
       "  <thead>\n",
       "    <tr style=\"text-align: right;\">\n",
       "      <th></th>\n",
       "      <th>survived</th>\n",
       "      <th>age</th>\n",
       "      <th>fare</th>\n",
       "      <th>adult_male</th>\n",
       "      <th>alone</th>\n",
       "      <th>male</th>\n",
       "      <th>class_Second</th>\n",
       "      <th>class_Third</th>\n",
       "      <th>sibsp_1</th>\n",
       "      <th>sibsp_2</th>\n",
       "      <th>...</th>\n",
       "      <th>parch_3</th>\n",
       "      <th>parch_4</th>\n",
       "      <th>parch_5</th>\n",
       "      <th>parch_6</th>\n",
       "      <th>deck_B</th>\n",
       "      <th>deck_C</th>\n",
       "      <th>deck_D</th>\n",
       "      <th>deck_E</th>\n",
       "      <th>deck_F</th>\n",
       "      <th>deck_G</th>\n",
       "    </tr>\n",
       "  </thead>\n",
       "  <tbody>\n",
       "    <tr>\n",
       "      <th>395</th>\n",
       "      <td>0</td>\n",
       "      <td>22.0</td>\n",
       "      <td>7.7958</td>\n",
       "      <td>1</td>\n",
       "      <td>1</td>\n",
       "      <td>1</td>\n",
       "      <td>0</td>\n",
       "      <td>1</td>\n",
       "      <td>0</td>\n",
       "      <td>0</td>\n",
       "      <td>...</td>\n",
       "      <td>0</td>\n",
       "      <td>0</td>\n",
       "      <td>0</td>\n",
       "      <td>0</td>\n",
       "      <td>0</td>\n",
       "      <td>0</td>\n",
       "      <td>0</td>\n",
       "      <td>0</td>\n",
       "      <td>0</td>\n",
       "      <td>0</td>\n",
       "    </tr>\n",
       "    <tr>\n",
       "      <th>85</th>\n",
       "      <td>1</td>\n",
       "      <td>33.0</td>\n",
       "      <td>15.8500</td>\n",
       "      <td>0</td>\n",
       "      <td>0</td>\n",
       "      <td>0</td>\n",
       "      <td>0</td>\n",
       "      <td>1</td>\n",
       "      <td>0</td>\n",
       "      <td>0</td>\n",
       "      <td>...</td>\n",
       "      <td>0</td>\n",
       "      <td>0</td>\n",
       "      <td>0</td>\n",
       "      <td>0</td>\n",
       "      <td>0</td>\n",
       "      <td>0</td>\n",
       "      <td>0</td>\n",
       "      <td>0</td>\n",
       "      <td>0</td>\n",
       "      <td>0</td>\n",
       "    </tr>\n",
       "    <tr>\n",
       "      <th>201</th>\n",
       "      <td>0</td>\n",
       "      <td>NaN</td>\n",
       "      <td>69.5500</td>\n",
       "      <td>1</td>\n",
       "      <td>0</td>\n",
       "      <td>1</td>\n",
       "      <td>0</td>\n",
       "      <td>1</td>\n",
       "      <td>0</td>\n",
       "      <td>0</td>\n",
       "      <td>...</td>\n",
       "      <td>0</td>\n",
       "      <td>0</td>\n",
       "      <td>0</td>\n",
       "      <td>0</td>\n",
       "      <td>0</td>\n",
       "      <td>0</td>\n",
       "      <td>0</td>\n",
       "      <td>0</td>\n",
       "      <td>0</td>\n",
       "      <td>0</td>\n",
       "    </tr>\n",
       "    <tr>\n",
       "      <th>542</th>\n",
       "      <td>0</td>\n",
       "      <td>11.0</td>\n",
       "      <td>31.2750</td>\n",
       "      <td>0</td>\n",
       "      <td>0</td>\n",
       "      <td>0</td>\n",
       "      <td>0</td>\n",
       "      <td>1</td>\n",
       "      <td>0</td>\n",
       "      <td>0</td>\n",
       "      <td>...</td>\n",
       "      <td>0</td>\n",
       "      <td>0</td>\n",
       "      <td>0</td>\n",
       "      <td>0</td>\n",
       "      <td>0</td>\n",
       "      <td>0</td>\n",
       "      <td>0</td>\n",
       "      <td>0</td>\n",
       "      <td>0</td>\n",
       "      <td>0</td>\n",
       "    </tr>\n",
       "    <tr>\n",
       "      <th>702</th>\n",
       "      <td>0</td>\n",
       "      <td>18.0</td>\n",
       "      <td>14.4542</td>\n",
       "      <td>0</td>\n",
       "      <td>0</td>\n",
       "      <td>0</td>\n",
       "      <td>0</td>\n",
       "      <td>1</td>\n",
       "      <td>0</td>\n",
       "      <td>0</td>\n",
       "      <td>...</td>\n",
       "      <td>0</td>\n",
       "      <td>0</td>\n",
       "      <td>0</td>\n",
       "      <td>0</td>\n",
       "      <td>0</td>\n",
       "      <td>0</td>\n",
       "      <td>0</td>\n",
       "      <td>0</td>\n",
       "      <td>0</td>\n",
       "      <td>0</td>\n",
       "    </tr>\n",
       "  </tbody>\n",
       "</table>\n",
       "<p>5 rows × 26 columns</p>\n",
       "</div>"
      ],
      "text/plain": [
       "     survived   age     fare  adult_male  alone  male  class_Second  \\\n",
       "395         0  22.0   7.7958           1      1     1             0   \n",
       "85          1  33.0  15.8500           0      0     0             0   \n",
       "201         0   NaN  69.5500           1      0     1             0   \n",
       "542         0  11.0  31.2750           0      0     0             0   \n",
       "702         0  18.0  14.4542           0      0     0             0   \n",
       "\n",
       "     class_Third  sibsp_1  sibsp_2   ...    parch_3  parch_4  parch_5  \\\n",
       "395            1        0        0   ...          0        0        0   \n",
       "85             1        0        0   ...          0        0        0   \n",
       "201            1        0        0   ...          0        0        0   \n",
       "542            1        0        0   ...          0        0        0   \n",
       "702            1        0        0   ...          0        0        0   \n",
       "\n",
       "     parch_6  deck_B  deck_C  deck_D  deck_E  deck_F  deck_G  \n",
       "395        0       0       0       0       0       0       0  \n",
       "85         0       0       0       0       0       0       0  \n",
       "201        0       0       0       0       0       0       0  \n",
       "542        0       0       0       0       0       0       0  \n",
       "702        0       0       0       0       0       0       0  \n",
       "\n",
       "[5 rows x 26 columns]"
      ]
     },
     "execution_count": 8,
     "metadata": {},
     "output_type": "execute_result"
    }
   ],
   "source": [
    "rawdata = sns.load_dataset('titanic').sample(frac=1, random_state = 3)\n",
    "rawdata['male'] = (rawdata['sex'] == 'male').astype(int)\n",
    "rawdata['alone'] = rawdata['alone'].astype(int)\n",
    "rawdata['adult_male'] = rawdata['adult_male'].astype(int)\n",
    "data = pd.get_dummies(rawdata, \n",
    "                      columns = ['class', 'sibsp', 'parch', 'deck'], \n",
    "                      drop_first=True)\\\n",
    "         .drop(['pclass', 'sex', 'embarked', 'who', 'embark_town', 'alive'], axis = 1)\n",
    "data.head()"
   ]
  },
  {
   "cell_type": "code",
   "execution_count": 209,
   "metadata": {},
   "outputs": [],
   "source": [
    "data = data.dropna()\n",
    "X = np.array(data.drop('survived', axis=1))\n",
    "y = np.array(data.survived)"
   ]
  },
  {
   "cell_type": "code",
   "execution_count": 210,
   "metadata": {},
   "outputs": [],
   "source": [
    "from sklearn.tree import DecisionTreeClassifier\n",
    "model = DecisionTreeClassifier()\n",
    "dectree = model.fit(X, y)  # <--- This is the training/fitting/learning step"
   ]
  },
  {
   "cell_type": "code",
   "execution_count": 211,
   "metadata": {},
   "outputs": [
    {
     "name": "stdout",
     "output_type": "stream",
     "text": [
      "714\n",
      "714\n"
     ]
    }
   ],
   "source": [
    "y_hat = dectree.predict(X)\n",
    "\n",
    "def perf_measure(y, y_hat):\n",
    "    TP = 0\n",
    "    FN = 0\n",
    "    TN = 0\n",
    "    FP = 0\n",
    "    for i in range(len(y)): \n",
    "        if y[i]==y_hat[i]==1:\n",
    "           TP += 1\n",
    "        if y_hat[i]==1 and y[i]!=y_hat[i]:\n",
    "           FN += 1\n",
    "        if y[i]==y_hat[i]==0:\n",
    "           TN += 1\n",
    "        if y_hat[i]==0 and y[i]!=y_hat[i]:\n",
    "           FP += 1\n",
    "        \n",
    "    return(TP, FN, TN, FP)\n",
    "\n",
    "print(sum(perf_measure(y, y_hat)))\n",
    "print(len(y))"
   ]
  },
  {
   "cell_type": "code",
   "execution_count": 212,
   "metadata": {},
   "outputs": [
    {
     "data": {
      "text/plain": [
       "0.9901960784313726"
      ]
     },
     "execution_count": 212,
     "metadata": {},
     "output_type": "execute_result"
    }
   ],
   "source": [
    "def acc_function(y, y_hat):\n",
    "    out = perf_measure(y, y_hat)\n",
    "    return (out[0] + out[2])/(out[0] + out[1] + out[2] + out[3])\n",
    "\n",
    "acc_function(y, y_hat)"
   ]
  },
  {
   "cell_type": "code",
   "execution_count": 213,
   "metadata": {},
   "outputs": [],
   "source": [
    "from sklearn.model_selection import train_test_split\n",
    "X_train, X_test, y_train, y_test = train_test_split(X, y, test_size=1/2, random_state=1)"
   ]
  },
  {
   "cell_type": "code",
   "execution_count": 214,
   "metadata": {},
   "outputs": [
    {
     "data": {
      "text/plain": [
       "0.742296918767507"
      ]
     },
     "execution_count": 214,
     "metadata": {},
     "output_type": "execute_result"
    }
   ],
   "source": [
    "dectree_train = model.fit(X_train, y_train)\n",
    "y_hat_test = dectree_train.predict(X_test)\n",
    "acc_function(y_test, y_hat_test)"
   ]
  },
  {
   "cell_type": "code",
   "execution_count": 215,
   "metadata": {},
   "outputs": [
    {
     "data": {
      "text/plain": [
       "0.8067226890756303"
      ]
     },
     "execution_count": 215,
     "metadata": {},
     "output_type": "execute_result"
    }
   ],
   "source": [
    "from sklearn.ensemble import RandomForestClassifier\n",
    "rf = RandomForestClassifier(bootstrap=True, class_weight=None, criterion='gini',\n",
    "            max_depth=2, max_features='auto', max_leaf_nodes=None,\n",
    "            min_impurity_decrease=0.0, min_impurity_split=None,\n",
    "            min_samples_leaf=1, min_samples_split=2,\n",
    "            min_weight_fraction_leaf=0.0, n_estimators=10, n_jobs=1,\n",
    "            oob_score=False, random_state=0, verbose=0, warm_start=False)\n",
    "rf_train = rf.fit(X_train, y_train)\n",
    "y_hat_test_rf = rf_train.predict(X_test)\n",
    "acc_function(y_test, y_hat_test_rf)"
   ]
  },
  {
   "cell_type": "code",
   "execution_count": 235,
   "metadata": {},
   "outputs": [
    {
     "data": {
      "text/html": [
       "<div>\n",
       "<style scoped>\n",
       "    .dataframe tbody tr th:only-of-type {\n",
       "        vertical-align: middle;\n",
       "    }\n",
       "\n",
       "    .dataframe tbody tr th {\n",
       "        vertical-align: top;\n",
       "    }\n",
       "\n",
       "    .dataframe thead th {\n",
       "        text-align: right;\n",
       "    }\n",
       "</style>\n",
       "<table border=\"1\" class=\"dataframe\">\n",
       "  <thead>\n",
       "    <tr style=\"text-align: right;\">\n",
       "      <th></th>\n",
       "      <th>Train</th>\n",
       "      <th>Test</th>\n",
       "      <th>n_estimators</th>\n",
       "    </tr>\n",
       "  </thead>\n",
       "  <tbody>\n",
       "    <tr>\n",
       "      <th>0</th>\n",
       "      <td>-0.873944</td>\n",
       "      <td>-0.717293</td>\n",
       "      <td>1</td>\n",
       "    </tr>\n",
       "    <tr>\n",
       "      <th>1</th>\n",
       "      <td>-0.964986</td>\n",
       "      <td>-0.750743</td>\n",
       "      <td>6</td>\n",
       "    </tr>\n",
       "    <tr>\n",
       "      <th>2</th>\n",
       "      <td>-0.983894</td>\n",
       "      <td>-0.742410</td>\n",
       "      <td>11</td>\n",
       "    </tr>\n",
       "    <tr>\n",
       "      <th>3</th>\n",
       "      <td>-0.988097</td>\n",
       "      <td>-0.770423</td>\n",
       "      <td>16</td>\n",
       "    </tr>\n",
       "    <tr>\n",
       "      <th>4</th>\n",
       "      <td>-0.988809</td>\n",
       "      <td>-0.736698</td>\n",
       "      <td>21</td>\n",
       "    </tr>\n",
       "    <tr>\n",
       "      <th>5</th>\n",
       "      <td>-0.990207</td>\n",
       "      <td>-0.750704</td>\n",
       "      <td>26</td>\n",
       "    </tr>\n",
       "    <tr>\n",
       "      <th>6</th>\n",
       "      <td>-0.991603</td>\n",
       "      <td>-0.745110</td>\n",
       "      <td>31</td>\n",
       "    </tr>\n",
       "    <tr>\n",
       "      <th>7</th>\n",
       "      <td>-0.993706</td>\n",
       "      <td>-0.756221</td>\n",
       "      <td>36</td>\n",
       "    </tr>\n",
       "    <tr>\n",
       "      <th>8</th>\n",
       "      <td>-0.993704</td>\n",
       "      <td>-0.745110</td>\n",
       "      <td>41</td>\n",
       "    </tr>\n",
       "    <tr>\n",
       "      <th>9</th>\n",
       "      <td>-0.994403</td>\n",
       "      <td>-0.747887</td>\n",
       "      <td>46</td>\n",
       "    </tr>\n",
       "    <tr>\n",
       "      <th>10</th>\n",
       "      <td>-0.995802</td>\n",
       "      <td>-0.739554</td>\n",
       "      <td>51</td>\n",
       "    </tr>\n",
       "    <tr>\n",
       "      <th>11</th>\n",
       "      <td>-0.997902</td>\n",
       "      <td>-0.747926</td>\n",
       "      <td>56</td>\n",
       "    </tr>\n",
       "    <tr>\n",
       "      <th>12</th>\n",
       "      <td>-0.997902</td>\n",
       "      <td>-0.753521</td>\n",
       "      <td>61</td>\n",
       "    </tr>\n",
       "    <tr>\n",
       "      <th>13</th>\n",
       "      <td>-0.997902</td>\n",
       "      <td>-0.756260</td>\n",
       "      <td>66</td>\n",
       "    </tr>\n",
       "    <tr>\n",
       "      <th>14</th>\n",
       "      <td>-0.997902</td>\n",
       "      <td>-0.750704</td>\n",
       "      <td>71</td>\n",
       "    </tr>\n",
       "    <tr>\n",
       "      <th>15</th>\n",
       "      <td>-0.997902</td>\n",
       "      <td>-0.747887</td>\n",
       "      <td>76</td>\n",
       "    </tr>\n",
       "    <tr>\n",
       "      <th>16</th>\n",
       "      <td>-0.997902</td>\n",
       "      <td>-0.747887</td>\n",
       "      <td>81</td>\n",
       "    </tr>\n",
       "    <tr>\n",
       "      <th>17</th>\n",
       "      <td>-0.997902</td>\n",
       "      <td>-0.750665</td>\n",
       "      <td>86</td>\n",
       "    </tr>\n",
       "    <tr>\n",
       "      <th>18</th>\n",
       "      <td>-0.997902</td>\n",
       "      <td>-0.756299</td>\n",
       "      <td>91</td>\n",
       "    </tr>\n",
       "    <tr>\n",
       "      <th>19</th>\n",
       "      <td>-0.997902</td>\n",
       "      <td>-0.756221</td>\n",
       "      <td>96</td>\n",
       "    </tr>\n",
       "  </tbody>\n",
       "</table>\n",
       "</div>"
      ],
      "text/plain": [
       "       Train      Test  n_estimators\n",
       "0  -0.873944 -0.717293             1\n",
       "1  -0.964986 -0.750743             6\n",
       "2  -0.983894 -0.742410            11\n",
       "3  -0.988097 -0.770423            16\n",
       "4  -0.988809 -0.736698            21\n",
       "5  -0.990207 -0.750704            26\n",
       "6  -0.991603 -0.745110            31\n",
       "7  -0.993706 -0.756221            36\n",
       "8  -0.993704 -0.745110            41\n",
       "9  -0.994403 -0.747887            46\n",
       "10 -0.995802 -0.739554            51\n",
       "11 -0.997902 -0.747926            56\n",
       "12 -0.997902 -0.753521            61\n",
       "13 -0.997902 -0.756260            66\n",
       "14 -0.997902 -0.750704            71\n",
       "15 -0.997902 -0.747887            76\n",
       "16 -0.997902 -0.747887            81\n",
       "17 -0.997902 -0.750665            86\n",
       "18 -0.997902 -0.756299            91\n",
       "19 -0.997902 -0.756221            96"
      ]
     },
     "execution_count": 235,
     "metadata": {},
     "output_type": "execute_result"
    }
   ],
   "source": [
    "from sklearn.model_selection import validation_curve\n",
    "estimators = range(1, 100, 5)\n",
    "\n",
    "train_scores, test_scores = \\\n",
    "    validation_curve(estimator=RandomForestClassifier(n_estimators=10,random_state=2),\n",
    "                     X=X_train,\n",
    "                     y=y_train,\n",
    "                     param_name='n_estimators',\n",
    "                     param_range=estimators,\n",
    "                     scoring='accuracy',\n",
    "                     cv=5)\n",
    "\n",
    "scores_est = pd.DataFrame({'Train': -train_scores.mean(axis=1),'Test': -test_scores.mean(axis=1), 'n_estimators': estimators})\n",
    "scores_est"
   ]
  },
  {
   "cell_type": "code",
   "execution_count": 238,
   "metadata": {},
   "outputs": [
    {
     "data": {
      "text/plain": [
       "[<matplotlib.lines.Line2D at 0x23f79f2fb00>]"
      ]
     },
     "execution_count": 238,
     "metadata": {},
     "output_type": "execute_result"
    },
    {
     "data": {
      "image/png": "[encoded data removed]",
      "text/plain": [
       "<Figure size 432x288 with 1 Axes>"
      ]
     },
     "metadata": {},
     "output_type": "display_data"
    }
   ],
   "source": [
    "f,ax = plt.subplots()\n",
    "\n",
    "ax.plot(estimators, np.mean(train_scores, 1), label='Test scores')\n",
    "ax.plot(estimators, np.mean(test_scores, 1), label='Train scores')"
   ]
  },
  {
   "cell_type": "code",
   "execution_count": 227,
   "metadata": {},
   "outputs": [
    {
     "data": {
      "text/plain": [
       "Text(0,0.5,'Number of observations used')"
      ]
     },
     "execution_count": 227,
     "metadata": {},
     "output_type": "execute_result"
    },
    {
     "data": {
      "image/png": "[encoded data removed]",
      "text/plain": [
       "<Figure size 432x288 with 1 Axes>"
      ]
     },
     "metadata": {},
     "output_type": "display_data"
    }
   ],
   "source": [
    "from sklearn.model_selection import learning_curve\n",
    "l_ts = [0.1, 0.2, 0.3, 0.4, 0.5, 0.6, 0.7, 0.8, 0.9, 1]\n",
    "\n",
    "train_sizes, train_scores, test_scores = \\\n",
    "    learning_curve(estimator=RandomForestClassifier(n_estimators=20), \n",
    "                   train_sizes=l_ts,\n",
    "                   X=X, \n",
    "                   y=y,\n",
    "                   cv=5)\n",
    "\n",
    "f,ax = plt.subplots()\n",
    "ax.plot(train_sizes, np.mean(train_scores, 1), label='Test scores')\n",
    "ax.plot(train_sizes, np.mean(test_scores, 1), label='Train scores')    \n",
    "ax.set_ylabel('Accuracy')\n",
    "ax.set_ylabel('Number of observations used')"
   ]
  }
 ],
 "metadata": {
  "kernelspec": {
   "display_name": "Python 3",
   "language": "python",
   "name": "python3"
  },
  "language_info": {
   "codemirror_mode": {
    "name": "ipython",
    "version": 3
   },
   "file_extension": ".py",
   "mimetype": "text/x-python",
   "name": "python",
   "nbconvert_exporter": "python",
   "pygments_lexer": "ipython3",
   "version": "3.6.5"
  }
 },
 "nbformat": 4,
 "nbformat_minor": 2
}
