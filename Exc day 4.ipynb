{
 "cells": [
  {
   "cell_type": "markdown",
   "metadata": {},
   "source": [
    "# Exc Data structuring"
   ]
  },
  {
   "cell_type": "code",
   "execution_count": 2,
   "metadata": {},
   "outputs": [],
   "source": [
    "%matplotlib inline \n",
    "\n",
    "import pandas as pd \n",
    "import matplotlib.pyplot as plt\n",
    "import matplotlib as mpl\n",
    "\n",
    "# Increases the plot size a little\n",
    "mpl.rcParams['figure.figsize'] = 11, 6b"
   ]
  },
  {
   "cell_type": "code",
   "execution_count": 4,
   "metadata": {},
   "outputs": [
    {
     "name": "stdout",
     "output_type": "stream",
     "text": [
      "                station   datetime obs_type  obs_value  Month Country_id\n",
      "datetime                                                                \n",
      "1864-01-01  ITE00100550 1864-01-01     TMAX        1.0      1        ITE\n",
      "1864-01-01  ITE00100550 1864-01-01     TMIN       -2.3      1        ITE\n",
      "1864-01-01  ITE00100550 1864-01-01     PRCP        2.5      1        ITE\n",
      "1864-01-01  ASN00079028 1864-01-01     PRCP        0.0      1        ASN\n",
      "1864-01-01  USC00064757 1864-01-01     PRCP       11.9      1        USC\n"
     ]
    }
   ],
   "source": [
    "def weerbericht(url):\n",
    "    df_w = pd.read_csv(url,\n",
    "                         compression='gzip', \n",
    "                         header=None).iloc[:,:4]\n",
    "    df_w.columns = ['station', 'datetime', 'obs_type', 'obs_value']\n",
    "    df_w['obs_value'] = df_w['obs_value'] / 10\n",
    "    df_w.datetime = pd.to_datetime(df_w.datetime.astype(str))\n",
    "    month = df_w.datetime.dt.month\n",
    "    df_w = df_w.assign(Month=month)\n",
    "    df_w = df_w.set_index(pd.DatetimeIndex(df_w.datetime))\n",
    "    country_id = df_w.station.str[:3]\n",
    "    df_w = df_w.assign(Country_id=country_id)\n",
    "    print(df_w.head())\n",
    "    \n",
    "weerbericht('https://www1.ncdc.noaa.gov/pub/data/ghcn/daily/by_year/1864.csv.gz')"
   ]
  }
 ],
 "metadata": {
  "kernelspec": {
   "display_name": "Python 3",
   "language": "python",
   "name": "python3"
  },
  "language_info": {
   "codemirror_mode": {
    "name": "ipython",
    "version": 3
   },
   "file_extension": ".py",
   "mimetype": "text/x-python",
   "name": "python",
   "nbconvert_exporter": "python",
   "pygments_lexer": "ipython3",
   "version": "3.6.5"
  }
 },
 "nbformat": 4,
 "nbformat_minor": 2
}
