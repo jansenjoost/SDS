{
 "cells": [
  {
   "cell_type": "code",
   "execution_count": 5,
   "metadata": {},
   "outputs": [
    {
     "name": "stdout",
     "output_type": "stream",
     "text": [
      "Hallo\n"
     ]
    },
    {
     "data": {
      "text/plain": [
       "'hallo joost'"
      ]
     },
     "execution_count": 5,
     "metadata": {},
     "output_type": "execute_result"
    }
   ],
   "source": [
    "s1 = 'hallo'\n",
    "s2 = 'joost'\n",
    "print(s1.capitalize())\n",
    "# works similarly with lower and upper\n",
    "\n",
    "space = ' '\n",
    "\n",
    "space.join([s1, s2])"
   ]
  },
  {
   "cell_type": "code",
   "execution_count": 7,
   "metadata": {},
   "outputs": [
    {
     "data": {
      "text/plain": [
       "True"
      ]
     },
     "execution_count": 7,
     "metadata": {},
     "output_type": "execute_result"
    }
   ],
   "source": [
    "'pol' not in s1"
   ]
  },
  {
   "cell_type": "code",
   "execution_count": 20,
   "metadata": {},
   "outputs": [
    {
     "name": "stdout",
     "output_type": "stream",
     "text": [
      "joost\n"
     ]
    }
   ],
   "source": [
    "s2.replace('joost', 'iris')\n",
    "print(s2)\n",
    "\n",
    "# python does not change te object"
   ]
  },
  {
   "cell_type": "code",
   "execution_count": 22,
   "metadata": {},
   "outputs": [
    {
     "name": "stdout",
     "output_type": "stream",
     "text": [
      "30\n"
     ]
    }
   ],
   "source": [
    "my_dict = {'name': 'joost',\n",
    "          'surname': 'jansen',\n",
    "          'age': '30'}\n",
    "\n",
    "print(my_dict['age'])"
   ]
  },
  {
   "cell_type": "markdown",
   "metadata": {},
   "source": [
    "JSON files look exactly like dictionaries, and they're there to store containers"
   ]
  },
  {
   "cell_type": "markdown",
   "metadata": {},
   "source": [
    "## API's"
   ]
  },
  {
   "cell_type": "code",
   "execution_count": 46,
   "metadata": {},
   "outputs": [
    {
     "name": "stdout",
     "output_type": "stream",
     "text": [
      "http://opendata.cbs.nl/ODataApi/OData/70072ned/$metadata#Cbs.OData.WebAPI.TableInfos\n"
     ]
    }
   ],
   "source": [
    "url = 'http://opendata.cbs.nl/ODataApi/OData/70072ned/$metadata#Cbs.OData.WebAPI.TableInfos'\n",
    "print(url)"
   ]
  },
  {
   "cell_type": "code",
   "execution_count": 47,
   "metadata": {},
   "outputs": [
    {
     "data": {
      "text/plain": [
       "True"
      ]
     },
     "execution_count": 47,
     "metadata": {},
     "output_type": "execute_result"
    }
   ],
   "source": [
    "import requests\n",
    "response = requests.get(url)\n",
    "response.ok"
   ]
  },
  {
   "cell_type": "raw",
   "metadata": {},
   "source": [
    "jsonresponse = response.json()"
   ]
  },
  {
   "cell_type": "markdown",
   "metadata": {},
   "source": [
    "## o/i"
   ]
  },
  {
   "cell_type": "code",
   "execution_count": 31,
   "metadata": {},
   "outputs": [],
   "source": [
    "# om iets op te slaan als textfile \n",
    "\n",
    "my_str = 'een zin om op te slaan'\n",
    "\n",
    "with open('example.txt', 'w') as f: # use a instead of w for appending to\n",
    "    f.write(my_str)"
   ]
  },
  {
   "cell_type": "code",
   "execution_count": 32,
   "metadata": {
    "scrolled": true
   },
   "outputs": [
    {
     "data": {
      "text/plain": [
       "True"
      ]
     },
     "execution_count": 32,
     "metadata": {},
     "output_type": "execute_result"
    }
   ],
   "source": [
    "# om een textfile te openen\n",
    "\n",
    "with open('example.txt', 'r') as f:\n",
    "    my_str_load = f.read()\n",
    "    \n",
    "my_str in my_str_load"
   ]
  },
  {
   "cell_type": "code",
   "execution_count": null,
   "metadata": {},
   "outputs": [],
   "source": [
    "# to save json file\n",
    "\n",
    "import json\n",
    "\n",
    "with open('jsonfile.txr', 'w') as f:\n",
    "    jsonresponse_str = json.dumps(response.json())\n",
    "    f.write(jsonresponse_str)\n",
    "    \n",
    "jsonresponse_str"
   ]
  },
  {
   "cell_type": "markdown",
   "metadata": {},
   "source": [
    "## Pandas"
   ]
  },
  {
   "cell_type": "code",
   "execution_count": null,
   "metadata": {},
   "outputs": [],
   "source": []
  }
 ],
 "metadata": {
  "kernelspec": {
   "display_name": "Python 3",
   "language": "python",
   "name": "python3"
  },
  "language_info": {
   "codemirror_mode": {
    "name": "ipython",
    "version": 3
   },
   "file_extension": ".py",
   "mimetype": "text/x-python",
   "name": "python",
   "nbconvert_exporter": "python",
   "pygments_lexer": "ipython3",
   "version": "3.6.5"
  }
 },
 "nbformat": 4,
 "nbformat_minor": 2
}
